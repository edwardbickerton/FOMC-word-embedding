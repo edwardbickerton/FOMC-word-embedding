{
 "cells": [
  {
   "cell_type": "markdown",
   "metadata": {},
   "source": [
    "# Playing with word embeddings"
   ]
  },
  {
   "cell_type": "code",
   "execution_count": 1,
   "metadata": {},
   "outputs": [],
   "source": [
    "import gensim\n",
    "import gensim.downloader\n",
    "import os.path"
   ]
  },
  {
   "cell_type": "code",
   "execution_count": 2,
   "metadata": {},
   "outputs": [],
   "source": [
    "my_model = gensim.models.KeyedVectors.load(\"models/trained_on_heavyweight.kv\")\n",
    "\n",
    "if os.path.isfile(\"models/word2vec-google-news-300.kv\"):\n",
    "    pre_trained_model = gensim.models.KeyedVectors.load(\"models/word2vec-google-news-300.kv\")\n",
    "else:\n",
    "    pre_trained_model = gensim.downloader.load(\"word2vec-google-news-300\")\n",
    "    pre_trained_model.save(\"models/word2vec-google-news-300.kv\")"
   ]
  },
  {
   "cell_type": "code",
   "execution_count": 3,
   "metadata": {},
   "outputs": [
    {
     "data": {
      "text/plain": [
       "[('teenager', 0.5368630290031433),\n",
       " ('men', 0.5095807313919067),\n",
       " ('adult', 0.4563252925872803),\n",
       " ('outerwear', 0.4537513256072998),\n",
       " ('deming', 0.44749754667282104),\n",
       " ('negro', 0.44570693373680115),\n",
       " ('erickson', 0.4415243864059448),\n",
       " ('male', 0.44095325469970703),\n",
       " ('teenage', 0.4405915439128876),\n",
       " ('attire', 0.4358309209346771)]"
      ]
     },
     "execution_count": 3,
     "metadata": {},
     "output_type": "execute_result"
    }
   ],
   "source": [
    "my_model.most_similar(positive=['woman', 'king'], negative=['man'], topn=10)"
   ]
  },
  {
   "cell_type": "code",
   "execution_count": 4,
   "metadata": {},
   "outputs": [
    {
     "data": {
      "text/plain": [
       "[('queen', 0.7118192911148071),\n",
       " ('monarch', 0.6189674735069275),\n",
       " ('princess', 0.5902431011199951),\n",
       " ('crown_prince', 0.5499460697174072),\n",
       " ('prince', 0.5377321243286133),\n",
       " ('kings', 0.5236844420433044),\n",
       " ('Queen_Consort', 0.5235945582389832),\n",
       " ('queens', 0.5181134343147278),\n",
       " ('sultan', 0.5098593235015869),\n",
       " ('monarchy', 0.5087411403656006)]"
      ]
     },
     "execution_count": 4,
     "metadata": {},
     "output_type": "execute_result"
    }
   ],
   "source": [
    "pre_trained_model.most_similar(positive=['woman', 'king'], negative=['man'], topn=10)"
   ]
  },
  {
   "cell_type": "code",
   "execution_count": 5,
   "metadata": {},
   "outputs": [
    {
     "data": {
      "text/plain": [
       "0.39046553"
      ]
     },
     "execution_count": 5,
     "metadata": {},
     "output_type": "execute_result"
    }
   ],
   "source": [
    "my_model.similarity(\"fomc\", \"federal_open_market_committee\")"
   ]
  },
  {
   "cell_type": "code",
   "execution_count": 6,
   "metadata": {},
   "outputs": [
    {
     "data": {
      "text/plain": [
       "[('ukraine', 0.6322808861732483),\n",
       " ('asia', 0.6030603647232056),\n",
       " ('ldcs', 0.57038414478302),\n",
       " ('russian', 0.5695589184761047),\n",
       " ('ussr', 0.5656349658966064),\n",
       " ('nigeria', 0.5599902272224426),\n",
       " ('syria', 0.5541927218437195),\n",
       " ('yemen', 0.5537207126617432),\n",
       " ('ukrainian', 0.5520867705345154),\n",
       " ('soviet', 0.5491610765457153)]"
      ]
     },
     "execution_count": 6,
     "metadata": {},
     "output_type": "execute_result"
    }
   ],
   "source": [
    "my_model.most_similar(positive=[\"china\", \"russia\"], negative=[\"taiwan\"])"
   ]
  },
  {
   "cell_type": "code",
   "execution_count": 9,
   "metadata": {},
   "outputs": [
    {
     "data": {
      "text/plain": [
       "[('frmed', 0.7580361366271973),\n",
       " ('policyconsistent', 0.7447898983955383),\n",
       " ('lingers', 0.7381137609481812),\n",
       " ('feedthrough', 0.7335733771324158),\n",
       " ('wellcontained', 0.7308051586151123),\n",
       " ('percentin', 0.7254142761230469),\n",
       " ('belowtarget', 0.725082516670227),\n",
       " ('productmarket', 0.7236245274543762),\n",
       " ('stillsubstantial', 0.7229225039482117),\n",
       " ('onwards', 0.7196956276893616),\n",
       " ('unaltered', 0.7185190916061401),\n",
       " ('dissipates', 0.7171823978424072),\n",
       " ('wavering', 0.7162265181541443),\n",
       " ('confdent', 0.7150279879570007),\n",
       " ('frmer', 0.7146952152252197),\n",
       " ('specifcally', 0.7138248682022095),\n",
       " ('cpibased', 0.7124614715576172),\n",
       " ('disinfationary', 0.7110069990158081),\n",
       " ('stillconsiderable', 0.7101003527641296),\n",
       " ('low', 0.7077929973602295)]"
      ]
     },
     "execution_count": 9,
     "metadata": {},
     "output_type": "execute_result"
    }
   ],
   "source": [
    "my_model.most_similar(positive=[\"high\", \"inflation\"], topn=20)"
   ]
  },
  {
   "cell_type": "code",
   "execution_count": 8,
   "metadata": {},
   "outputs": [
    {
     "data": {
      "text/plain": [
       "[('inflationary', 0.6467667818069458),\n",
       " ('Inflation', 0.6282854080200195),\n",
       " ('inflationary_pressures', 0.6156454086303711),\n",
       " ('inflationary_pressure', 0.5942626595497131),\n",
       " ('inflation_pressures', 0.5863731503486633),\n",
       " ('inflationary_expectations', 0.5672442317008972),\n",
       " ('CPI', 0.5409082174301147),\n",
       " ('deflation', 0.5164057016372681),\n",
       " ('monetary_tightening', 0.5038178563117981),\n",
       " ('Headline_inflation', 0.4986780285835266)]"
      ]
     },
     "execution_count": 8,
     "metadata": {},
     "output_type": "execute_result"
    }
   ],
   "source": [
    "pre_trained_model.most_similar(positive=[\"high\", \"inflation\"], negative=[\"low\"])"
   ]
  },
  {
   "cell_type": "code",
   "execution_count": null,
   "metadata": {},
   "outputs": [],
   "source": []
  }
 ],
 "metadata": {
  "kernelspec": {
   "display_name": "base",
   "language": "python",
   "name": "python3"
  },
  "language_info": {
   "codemirror_mode": {
    "name": "ipython",
    "version": 3
   },
   "file_extension": ".py",
   "mimetype": "text/x-python",
   "name": "python",
   "nbconvert_exporter": "python",
   "pygments_lexer": "ipython3",
   "version": "3.9.13"
  },
  "orig_nbformat": 4
 },
 "nbformat": 4,
 "nbformat_minor": 2
}
